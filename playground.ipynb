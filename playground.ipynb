{
 "cells": [
  {
   "cell_type": "markdown",
   "metadata": {},
   "source": [
    "# 1. 환경 설치"
   ]
  },
  {
   "cell_type": "code",
   "execution_count": null,
   "metadata": {},
   "outputs": [],
   "source": [
    "# conda 환경 생성, conda create -n {환경이름} python=3.12.8\n",
    "# pip install ipykernel\n",
    "# pip install pillow exifread geopy datetime\n",
    "from PIL import Image\n",
    "import exifread\n",
    "from geopy.point import Point\n",
    "from geopy.geocoders import Nominatim\n",
    "import os"
   ]
  },
  {
   "cell_type": "code",
   "execution_count": null,
   "metadata": {},
   "outputs": [],
   "source": [
    "# pip install tensorflow\n",
    "import numpy as np\n",
    "from tensorflow.keras.applications.resnet50 import ResNet50, preprocess_input, decode_predictions\n",
    "from tensorflow.keras.preprocessing import image"
   ]
  },
  {
   "cell_type": "code",
   "execution_count": null,
   "metadata": {},
   "outputs": [],
   "source": [
    "# pip install opencv-python pytesseract\n",
    "# conda install -c conda-forge tesseract\n",
    "\n",
    "import cv2\n",
    "import pytesseract\n",
    "\n",
    "# 아래 경로는 터미널에서 where tesseract 입력 시 출력되는 경로를 넣어준다.\n",
    "pytesseract.pytesseract.tesseract_cmd = (\n",
    "    r\"C:\\Users\\Admin\\.conda\\envs\\flashback_env\\Library\\bin\\tesseract.exe\"\n",
    ")"
   ]
  },
  {
   "cell_type": "code",
   "execution_count": 2,
   "metadata": {},
   "outputs": [],
   "source": [
    "def get_exif_data(image_path):\n",
    "    geolocator = Nominatim(user_agent=\"South Korea\")\n",
    "    \n",
    "    with open(image_path, 'rb') as f:\n",
    "        tags = exifread.process_file(f)\n",
    "    # GPS 정보 추출\n",
    "    latitude = tags.get('GPS GPSLatitude')\n",
    "    longitude = tags.get('GPS GPSLongitude')\n",
    "    timestamp = tags.get('EXIF DateTimeOriginal')\n",
    "    \n",
    "    \n",
    "    if latitude and longitude:\n",
    "        latitude_sec = float(latitude.values[2].num) / float(latitude.values[2].den)\n",
    "        longitude_sec = float(longitude.values[2].num) / float(longitude.values[2].den)\n",
    "\n",
    "        latitude_dms = f\"{latitude.values[0]} {latitude.values[1]}m {latitude_sec}s N\"\n",
    "        longitude_dms = f\"{longitude.values[0]} {longitude.values[1]}m {longitude_sec}s E\"\n",
    "        \n",
    "        # location = \"beep\"\n",
    "        point = Point(latitude_dms + \" \" + longitude_dms)\n",
    "        \n",
    "        # location = rg.search((point.latitude, point.longitude))\n",
    "        location = geolocator.reverse((point.latitude, point.longitude))\n",
    "        \n",
    "        # 구글, 네이버, 카카오 등 시험해볼것\n",
    "    else:\n",
    "        location = None\n",
    "\n",
    "    return {\n",
    "        \"location\": location[:-1] if location else \"위치 정보 없음\",\n",
    "        \"timestamp\": timestamp.printable if timestamp else \"시간 정보 없음\"\n",
    "    }"
   ]
  },
  {
   "cell_type": "code",
   "execution_count": 3,
   "metadata": {},
   "outputs": [
    {
     "name": "stdout",
     "output_type": "stream",
     "text": [
      "{'location': '위치 정보 없음', 'timestamp': '시간 정보 없음'}\n"
     ]
    }
   ],
   "source": [
    "img_folder = \"img\"\n",
    "paths = [\n",
    "    os.path.join(img_folder, file)\n",
    "    for file in os.listdir(img_folder)\n",
    "    if os.path.isfile(os.path.join(img_folder, file))\n",
    "]\n",
    "\n",
    "for path in paths:\n",
    "  print(get_exif_data(path))"
   ]
  },
  {
   "cell_type": "code",
   "execution_count": 5,
   "metadata": {},
   "outputs": [],
   "source": [
    "# ResNet50 모델 로드\n",
    "model = ResNet50(weights='imagenet')\n",
    "\n",
    "def predict_location(img_path):\n",
    "    img = image.load_img(img_path, target_size=(224, 224))\n",
    "    img_array = image.img_to_array(img)\n",
    "    img_array = np.expand_dims(img_array, axis=0)\n",
    "    img_array = preprocess_input(img_array)\n",
    "\n",
    "    preds = model.predict(img_array)\n",
    "    decoded_preds = decode_predictions(preds, top=3)[0]  # 상위 3개 후보 반환\n",
    "    \n",
    "    return [(label, prob) for (_, label, prob) in decoded_preds]"
   ]
  },
  {
   "cell_type": "code",
   "execution_count": 6,
   "metadata": {},
   "outputs": [
    {
     "name": "stdout",
     "output_type": "stream",
     "text": [
      "\u001b[1m1/1\u001b[0m \u001b[32m━━━━━━━━━━━━━━━━━━━━\u001b[0m\u001b[37m\u001b[0m \u001b[1m1s\u001b[0m 869ms/step\n",
      "[('digital_watch', np.float32(0.3794299)), ('digital_clock', np.float32(0.22164412)), ('stopwatch', np.float32(0.11135533))]\n"
     ]
    }
   ],
   "source": [
    "for path in paths:\n",
    "  print(predict_location(path))"
   ]
  },
  {
   "cell_type": "code",
   "execution_count": 17,
   "metadata": {},
   "outputs": [],
   "source": [
    "def extract_text(img_path):\n",
    "    img = cv2.imread(img_path)\n",
    "    gray = cv2.cvtColor(img, cv2.COLOR_BGR2GRAY)\n",
    "    text = pytesseract.image_to_string(gray, lang=\"eng+kor\")  # 영어+한글 OCR\n",
    "    # text = pytesseract.image_to_string(gray, lang=\"eng\")  # 영어 OCR\n",
    "    # text = pytesseract.image_to_string(gray, lang=\"kor\")  # 한글 OCR\n",
    "    return text"
   ]
  },
  {
   "cell_type": "code",
   "execution_count": 18,
   "metadata": {},
   "outputs": [
    {
     "name": "stdout",
     "output_type": "stream",
     "text": [
      "[ocr_img\\test.jpg]\n",
      "tesseractS\n",
      "이용한\n",
      "OCR 테스트\n",
      "\n",
      "[ocr_img\\test2.png]\n",
      "This is a lot of 12 point text to test the\n",
      "ocr code and see if it works on all types\n",
      "of file format.\n",
      "\n",
      "The quick brown dog jumped over the\n",
      "lazy fox. The quick brown dog jumped\n",
      "over the lazy fox. The quick brown dog\n",
      "jumped over the lazy fox. The quick\n",
      "brown dog jumped over the lazy fox.\n",
      "\n",
      "[ocr_img\\test3.png]\n",
      "때 비\n",
      "\n",
      "실험\n",
      "\n",
      "심리\n",
      "\n",
      "WWsers>tesseract D:/Data/ocr/sample.jpa stdout -| kor_Istm_best —-psm 4 --060 1\n",
      "\n",
      "-\n",
      "\n",
      "회 ou 더\n",
      "페 훈 힌 호 호\n",
      "mw oS 힐 도\n",
      "2m 좋 ow\n",
      "Ss ° Was\n",
      "후 버 Ul ar 페 전\n",
      "sea 5 a y w\n",
      "aS 2 i &\n",
      "a a wor &\n",
      "해조 물 떠 Ss\n",
      "zm mH oO ge\n",
      "fw = iw or\n",
      ". = 2 a wr\n",
      "Ss, ™ emt\n",
      "w sobs w\n",
      "em Fox oy Wl\n",
      "aie 증오\n",
      "때 Gy Fs\n",
      "7 4 go 25\n",
      "oT i 을 뽀\n",
      "Rr Se <1 hOB ie\n",
      "Wy oe\n",
      "=a iW a =\n",
      "Noa 해 에 =\n",
      "띠 호경 딱히 &\n",
      "이 응 2a i)\n",
      "2 8 aT -\n",
      "My VB So\n",
      "더 a Sp\n",
      "axzghsn 8\n",
      "ze Ps Fw =\n",
      "ao 이방 호\n",
      "asp os\n",
      "이 ym ROB\n",
      "wo <u By 그 바고\n",
      "1 ier 5 cm 헤\n",
      "Sy! Smo\n",
      "어버이 = Sys\n",
      "KROL, ties\n",
      "@ 112 HP HERO\n",
      "wR? Bi Oy\n",
      "RO Sah Oe\n",
      "\n",
      "은 금 버 올 느 응\n",
      "\n",
      "구아바 Lolz Barer\n",
      "SEW 5 Finan PSA\n",
      "ae Polaige “lita\n",
      "Stes y BIW ay,\n",
      "Sun SAMS MO\n",
      "ssh Yow2 x: eae\n",
      "ow ecaS, 다 가구\n",
      "\n",
      "Oe SKS 보브 .\n",
      "\n"
     ]
    }
   ],
   "source": [
    "ocr_img_folder = \"ocr_img\"\n",
    "paths = [\n",
    "    os.path.join(ocr_img_folder, file)\n",
    "    for file in os.listdir(ocr_img_folder)\n",
    "    if os.path.isfile(os.path.join(ocr_img_folder, file))\n",
    "]\n",
    "\n",
    "for path in paths:\n",
    "\n",
    "  print(f\"[{path}]\")\n",
    "\n",
    "  print(extract_text(path))"
   ]
  },
  {
   "cell_type": "code",
   "execution_count": null,
   "metadata": {},
   "outputs": [],
   "source": []
  }
 ],
 "metadata": {
  "kernelspec": {
   "display_name": "flashback_env",
   "language": "python",
   "name": "python3"
  },
  "language_info": {
   "codemirror_mode": {
    "name": "ipython",
    "version": 3
   },
   "file_extension": ".py",
   "mimetype": "text/x-python",
   "name": "python",
   "nbconvert_exporter": "python",
   "pygments_lexer": "ipython3",
   "version": "3.12.9"
  }
 },
 "nbformat": 4,
 "nbformat_minor": 2
}
